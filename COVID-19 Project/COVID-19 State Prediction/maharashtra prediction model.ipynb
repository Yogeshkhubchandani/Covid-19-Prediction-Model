{
 "cells": [
  {
   "cell_type": "code",
   "execution_count": 15,
   "metadata": {
    "scrolled": true
   },
   "outputs": [
    {
     "name": "stdout",
     "output_type": "stream",
     "text": [
      "(2342, 9)\n"
     ]
    },
    {
     "data": {
      "text/html": [
       "<div>\n",
       "<style scoped>\n",
       "    .dataframe tbody tr th:only-of-type {\n",
       "        vertical-align: middle;\n",
       "    }\n",
       "\n",
       "    .dataframe tbody tr th {\n",
       "        vertical-align: top;\n",
       "    }\n",
       "\n",
       "    .dataframe thead th {\n",
       "        text-align: right;\n",
       "    }\n",
       "</style>\n",
       "<table border=\"1\" class=\"dataframe\">\n",
       "  <thead>\n",
       "    <tr style=\"text-align: right;\">\n",
       "      <th></th>\n",
       "      <th>Sno</th>\n",
       "      <th>Date</th>\n",
       "      <th>Time</th>\n",
       "      <th>State/UnionTerritory</th>\n",
       "      <th>ConfirmedIndianNational</th>\n",
       "      <th>ConfirmedForeignNational</th>\n",
       "      <th>Cured</th>\n",
       "      <th>Deaths</th>\n",
       "      <th>Confirmed</th>\n",
       "    </tr>\n",
       "  </thead>\n",
       "  <tbody>\n",
       "    <tr>\n",
       "      <td>0</td>\n",
       "      <td>1</td>\n",
       "      <td>30/01/20</td>\n",
       "      <td>6:00 PM</td>\n",
       "      <td>Kerala</td>\n",
       "      <td>1</td>\n",
       "      <td>0</td>\n",
       "      <td>0</td>\n",
       "      <td>0</td>\n",
       "      <td>1</td>\n",
       "    </tr>\n",
       "    <tr>\n",
       "      <td>1</td>\n",
       "      <td>2</td>\n",
       "      <td>31/01/20</td>\n",
       "      <td>6:00 PM</td>\n",
       "      <td>Kerala</td>\n",
       "      <td>1</td>\n",
       "      <td>0</td>\n",
       "      <td>0</td>\n",
       "      <td>0</td>\n",
       "      <td>1</td>\n",
       "    </tr>\n",
       "    <tr>\n",
       "      <td>2</td>\n",
       "      <td>3</td>\n",
       "      <td>01/02/20</td>\n",
       "      <td>6:00 PM</td>\n",
       "      <td>Kerala</td>\n",
       "      <td>2</td>\n",
       "      <td>0</td>\n",
       "      <td>0</td>\n",
       "      <td>0</td>\n",
       "      <td>2</td>\n",
       "    </tr>\n",
       "    <tr>\n",
       "      <td>3</td>\n",
       "      <td>4</td>\n",
       "      <td>02/02/20</td>\n",
       "      <td>6:00 PM</td>\n",
       "      <td>Kerala</td>\n",
       "      <td>3</td>\n",
       "      <td>0</td>\n",
       "      <td>0</td>\n",
       "      <td>0</td>\n",
       "      <td>3</td>\n",
       "    </tr>\n",
       "    <tr>\n",
       "      <td>4</td>\n",
       "      <td>5</td>\n",
       "      <td>03/02/20</td>\n",
       "      <td>6:00 PM</td>\n",
       "      <td>Kerala</td>\n",
       "      <td>3</td>\n",
       "      <td>0</td>\n",
       "      <td>0</td>\n",
       "      <td>0</td>\n",
       "      <td>3</td>\n",
       "    </tr>\n",
       "  </tbody>\n",
       "</table>\n",
       "</div>"
      ],
      "text/plain": [
       "   Sno      Date     Time State/UnionTerritory ConfirmedIndianNational  \\\n",
       "0    1  30/01/20  6:00 PM               Kerala                       1   \n",
       "1    2  31/01/20  6:00 PM               Kerala                       1   \n",
       "2    3  01/02/20  6:00 PM               Kerala                       2   \n",
       "3    4  02/02/20  6:00 PM               Kerala                       3   \n",
       "4    5  03/02/20  6:00 PM               Kerala                       3   \n",
       "\n",
       "  ConfirmedForeignNational  Cured  Deaths  Confirmed  \n",
       "0                        0      0       0          1  \n",
       "1                        0      0       0          1  \n",
       "2                        0      0       0          2  \n",
       "3                        0      0       0          3  \n",
       "4                        0      0       0          3  "
      ]
     },
     "execution_count": 15,
     "metadata": {},
     "output_type": "execute_result"
    }
   ],
   "source": [
    "import numpy as np\n",
    "import pandas as pd\n",
    "\n",
    "data = pd.read_csv(\"covid_19_india.csv\")\n",
    "print(data.shape)\n",
    "data.head()"
   ]
  },
  {
   "cell_type": "code",
   "execution_count": 16,
   "metadata": {},
   "outputs": [
    {
     "name": "stdout",
     "output_type": "stream",
     "text": [
      "(29426, 8)\n"
     ]
    },
    {
     "data": {
      "text/html": [
       "<div>\n",
       "<style scoped>\n",
       "    .dataframe tbody tr th:only-of-type {\n",
       "        vertical-align: middle;\n",
       "    }\n",
       "\n",
       "    .dataframe tbody tr th {\n",
       "        vertical-align: top;\n",
       "    }\n",
       "\n",
       "    .dataframe thead th {\n",
       "        text-align: right;\n",
       "    }\n",
       "</style>\n",
       "<table border=\"1\" class=\"dataframe\">\n",
       "  <thead>\n",
       "    <tr style=\"text-align: right;\">\n",
       "      <th></th>\n",
       "      <th>SNo</th>\n",
       "      <th>ObservationDate</th>\n",
       "      <th>Province/State</th>\n",
       "      <th>Country/Region</th>\n",
       "      <th>Last Update</th>\n",
       "      <th>Confirmed</th>\n",
       "      <th>Deaths</th>\n",
       "      <th>Recovered</th>\n",
       "    </tr>\n",
       "  </thead>\n",
       "  <tbody>\n",
       "    <tr>\n",
       "      <td>0</td>\n",
       "      <td>1</td>\n",
       "      <td>01/22/2020</td>\n",
       "      <td>Anhui</td>\n",
       "      <td>Mainland China</td>\n",
       "      <td>1/22/2020 17:00</td>\n",
       "      <td>1.0</td>\n",
       "      <td>0.0</td>\n",
       "      <td>0.0</td>\n",
       "    </tr>\n",
       "    <tr>\n",
       "      <td>1</td>\n",
       "      <td>2</td>\n",
       "      <td>01/22/2020</td>\n",
       "      <td>Beijing</td>\n",
       "      <td>Mainland China</td>\n",
       "      <td>1/22/2020 17:00</td>\n",
       "      <td>14.0</td>\n",
       "      <td>0.0</td>\n",
       "      <td>0.0</td>\n",
       "    </tr>\n",
       "    <tr>\n",
       "      <td>2</td>\n",
       "      <td>3</td>\n",
       "      <td>01/22/2020</td>\n",
       "      <td>Chongqing</td>\n",
       "      <td>Mainland China</td>\n",
       "      <td>1/22/2020 17:00</td>\n",
       "      <td>6.0</td>\n",
       "      <td>0.0</td>\n",
       "      <td>0.0</td>\n",
       "    </tr>\n",
       "    <tr>\n",
       "      <td>3</td>\n",
       "      <td>4</td>\n",
       "      <td>01/22/2020</td>\n",
       "      <td>Fujian</td>\n",
       "      <td>Mainland China</td>\n",
       "      <td>1/22/2020 17:00</td>\n",
       "      <td>1.0</td>\n",
       "      <td>0.0</td>\n",
       "      <td>0.0</td>\n",
       "    </tr>\n",
       "    <tr>\n",
       "      <td>4</td>\n",
       "      <td>5</td>\n",
       "      <td>01/22/2020</td>\n",
       "      <td>Gansu</td>\n",
       "      <td>Mainland China</td>\n",
       "      <td>1/22/2020 17:00</td>\n",
       "      <td>0.0</td>\n",
       "      <td>0.0</td>\n",
       "      <td>0.0</td>\n",
       "    </tr>\n",
       "  </tbody>\n",
       "</table>\n",
       "</div>"
      ],
      "text/plain": [
       "   SNo ObservationDate Province/State  Country/Region      Last Update  \\\n",
       "0    1      01/22/2020          Anhui  Mainland China  1/22/2020 17:00   \n",
       "1    2      01/22/2020        Beijing  Mainland China  1/22/2020 17:00   \n",
       "2    3      01/22/2020      Chongqing  Mainland China  1/22/2020 17:00   \n",
       "3    4      01/22/2020         Fujian  Mainland China  1/22/2020 17:00   \n",
       "4    5      01/22/2020          Gansu  Mainland China  1/22/2020 17:00   \n",
       "\n",
       "   Confirmed  Deaths  Recovered  \n",
       "0        1.0     0.0        0.0  \n",
       "1       14.0     0.0        0.0  \n",
       "2        6.0     0.0        0.0  \n",
       "3        1.0     0.0        0.0  \n",
       "4        0.0     0.0        0.0  "
      ]
     },
     "execution_count": 16,
     "metadata": {},
     "output_type": "execute_result"
    }
   ],
   "source": [
    "dataset = pd.read_csv(\"covid_19_data.csv\")\n",
    "print(dataset.shape)\n",
    "dataset.head()"
   ]
  },
  {
   "cell_type": "code",
   "execution_count": 17,
   "metadata": {},
   "outputs": [
    {
     "name": "stdout",
     "output_type": "stream",
     "text": [
      "Maharshtra cases up to 20/05/2020: 52667\n"
     ]
    },
    {
     "data": {
      "text/plain": [
       "79"
      ]
     },
     "execution_count": 17,
     "metadata": {},
     "output_type": "execute_result"
    }
   ],
   "source": [
    "maharashtra_y = []\n",
    "\n",
    "tempsum_maharashtra = 0\n",
    "for i in range(0, len(data)):\n",
    "        if data.iloc[i, 3] == \"Maharashtra\": \n",
    "            tempsum_maharashtra = data.iloc[i, 8]\n",
    "            maharashtra_y.append(tempsum_maharashtra)\n",
    "print(\"Maharshtra cases up to 20/05/2020: {}\".format(maharashtra_y[len(maharashtra_y) - 1]))\n",
    "len(maharashtra_y)"
   ]
  },
  {
   "cell_type": "code",
   "execution_count": 18,
   "metadata": {},
   "outputs": [
    {
     "name": "stdout",
     "output_type": "stream",
     "text": [
      "Maharshtra cases up to 20/05/2020: 144950.0\n"
     ]
    },
    {
     "data": {
      "text/plain": [
       "117"
      ]
     },
     "execution_count": 18,
     "metadata": {},
     "output_type": "execute_result"
    }
   ],
   "source": [
    "india_y = []\n",
    "\n",
    "tempsum_india = 0\n",
    "for i in range(0, len(dataset)):\n",
    "        if dataset.iloc[i, 3] == \"India\": \n",
    "            tempsum_india = dataset.iloc[i, 5]\n",
    "            india_y.append(tempsum_india)\n",
    "print(\"Maharshtra cases up to 20/05/2020: {}\".format(india_y[len(india_y) - 1]))\n",
    "len(india_y)"
   ]
  },
  {
   "cell_type": "code",
   "execution_count": 19,
   "metadata": {},
   "outputs": [
    {
     "data": {
      "image/png": "[encoded data removed]",
      "text/plain": [
       "<Figure size 432x288 with 1 Axes>"
      ]
     },
     "metadata": {
      "needs_background": "light"
     },
     "output_type": "display_data"
    }
   ],
   "source": [
    "import matplotlib.pyplot as plt\n",
    "\n",
    "plt.ylabel(\"Confirmed Cases\")\n",
    "plt.xlabel(\"Days after 22/01/2020\")\n",
    "\n",
    "plt.plot(india_y, color='red', label='india')\n",
    "plt.plot(maharashtra_y, color='green', label='maharashtra')\n",
    "plt.legend()\n",
    "plt.show()"
   ]
  },
  {
   "cell_type": "code",
   "execution_count": 20,
   "metadata": {},
   "outputs": [
    {
     "data": {
      "image/png": "[encoded data removed]",
      "text/plain": [
       "<Figure size 432x288 with 1 Axes>"
      ]
     },
     "metadata": {
      "needs_background": "light"
     },
     "output_type": "display_data"
    },
    {
     "name": "stdout",
     "output_type": "stream",
     "text": [
      "79\n"
     ]
    }
   ],
   "source": [
    "from scipy.signal import savgol_filter\n",
    "\n",
    "deriv_maharashtra = savgol_filter(maharashtra_y, 9, 2, 1) #Polynomial degree is 2 since the function should look like a parabola\n",
    "\n",
    "plt.ylabel(\"ΔConfirmed Cases\")\n",
    "\n",
    "plt.plot(deriv_maharashtra, color='red', label=\" SD\")\n",
    "plt.legend()\n",
    "plt.show()\n",
    "print(len(maharashtra_y))"
   ]
  },
  {
   "cell_type": "code",
   "execution_count": 21,
   "metadata": {},
   "outputs": [
    {
     "data": {
      "image/png": "[encoded data removed]",
      "text/plain": [
       "<Figure size 432x288 with 1 Axes>"
      ]
     },
     "metadata": {
      "needs_background": "light"
     },
     "output_type": "display_data"
    },
    {
     "data": {
      "text/plain": [
       "117"
      ]
     },
     "execution_count": 21,
     "metadata": {},
     "output_type": "execute_result"
    }
   ],
   "source": [
    "from scipy.signal import savgol_filter\n",
    "\n",
    "deriv_india = savgol_filter(india_y, int(((len(india_y))+2)/3), 2, 1) #Polynomial degree is 2 since the function should look like a parabola\n",
    "deriv_india = savgol_filter(deriv_india, int((len(india_y)+2)/5), 2, 0)\n",
    "\n",
    "plt.ylabel(\"ΔConfirmed Cases\")\n",
    "\n",
    "plt.plot(deriv_india, color='red', label=\"india SD\")\n",
    "plt.legend()\n",
    "plt.show()\n",
    "len(deriv_india)"
   ]
  },
  {
   "cell_type": "code",
   "execution_count": 22,
   "metadata": {},
   "outputs": [
    {
     "data": {
      "image/png": "[encoded data removed]",
      "text/plain": [
       "<Figure size 432x288 with 1 Axes>"
      ]
     },
     "metadata": {
      "needs_background": "light"
     },
     "output_type": "display_data"
    }
   ],
   "source": [
    "from scipy import integrate\n",
    "\n",
    "india_y_pred = integrate.cumtrapz(deriv_india) \n",
    "\n",
    "plt.ylabel(\"Confirmed Cases\")\n",
    "\n",
    "plt.plot(india_y, color='red', label=\"india Actual\")\n",
    "plt.plot(india_y_pred, color='blue', label='india Model')\n",
    "plt.legend()\n",
    "plt.show()"
   ]
  },
  {
   "cell_type": "code",
   "execution_count": 23,
   "metadata": {},
   "outputs": [
    {
     "data": {
      "image/png": "[encoded data removed]",
      "text/plain": [
       "<Figure size 432x288 with 1 Axes>"
      ]
     },
     "metadata": {
      "needs_background": "light"
     },
     "output_type": "display_data"
    }
   ],
   "source": [
    "maharashtra_y = maharashtra_y[:28]\n",
    "deriv_maharashtra = savgol_filter(maharashtra_y, 7, 2, 1)\n",
    "deriv_maharashtra = savgol_filter(deriv_maharashtra, 9, 2, 0)\n",
    "\n",
    "plt.plot(india_y, color='red', label='india')\n",
    "plt.plot(india_y_pred, color='blue', label=\"india Model\")\n",
    "plt.plot(maharashtra_y, color='green', label='maharashtra')\n",
    "plt.legend()\n",
    "plt.show()"
   ]
  },
  {
   "cell_type": "code",
   "execution_count": 24,
   "metadata": {},
   "outputs": [
    {
     "data": {
      "image/png": "[encoded data removed]",
      "text/plain": [
       "<Figure size 432x288 with 1 Axes>"
      ]
     },
     "metadata": {
      "needs_background": "light"
     },
     "output_type": "display_data"
    }
   ],
   "source": [
    "plt.ylabel(\"ΔConfirmed Cases\")\n",
    "\n",
    "plt.plot(deriv_india, color='red', label='india SD')\n",
    "plt.plot(deriv_maharashtra, color='green', label='maharashtra SD')\n",
    "plt.legend()\n",
    "plt.show()"
   ]
  },
  {
   "cell_type": "code",
   "execution_count": 25,
   "metadata": {},
   "outputs": [
    {
     "data": {
      "image/png": "[encoded data removed]",
      "text/plain": [
       "<Figure size 432x288 with 1 Axes>"
      ]
     },
     "metadata": {
      "needs_background": "light"
     },
     "output_type": "display_data"
    }
   ],
   "source": [
    "maharashtra_derv_model = np.roll(deriv_india, 1)\n",
    "maharashtra_derv_model = savgol_filter(deriv_india, 19, 2, 0)\n",
    "maharashtra_basic_model= []\n",
    "for i in range(28):\n",
    "    maharashtra_basic_model.append(deriv_maharashtra[i])\n",
    "\n",
    "for i in range(28, len(maharashtra_derv_model)):\n",
    "    maharashtra_basic_model.append(maharashtra_derv_model[i])\n",
    "\n",
    "plt.ylabel(\"ΔConfirmed Cases\")\n",
    "\n",
    "plt.plot(deriv_india, color='red', label=\"india SD\")\n",
    "plt.plot(maharashtra_basic_model, color='green', label='maharashtra Model SD')\n",
    "plt.legend()\n",
    "plt.show()"
   ]
  },
  {
   "cell_type": "code",
   "execution_count": 26,
   "metadata": {},
   "outputs": [
    {
     "data": {
      "image/png": "[encoded data removed]",
      "text/plain": [
       "<Figure size 432x288 with 1 Axes>"
      ]
     },
     "metadata": {
      "needs_background": "light"
     },
     "output_type": "display_data"
    },
    {
     "data": {
      "text/plain": [
       "array([-3.31980519e-01,  1.37503865e+00,  4.72611317e+00,  9.32629870e+00,\n",
       "        1.47779839e+01,  2.05969388e+01,  2.63814935e+01,  3.19752628e+01,\n",
       "        3.72765152e+01,  4.26530612e+01,  4.89216914e+01,  5.65302257e+01,\n",
       "        6.58510359e+01,  7.73766234e+01,  9.12705628e+01,  1.06691790e+02,\n",
       "        1.22791589e+02,  1.40409400e+02,  1.60048624e+02,  1.82189007e+02,\n",
       "        2.08839286e+02,  2.41907236e+02,  2.82231293e+02,  3.29252984e+02,\n",
       "        3.82166659e+02,  4.40673230e+02,  5.04473609e+02,  5.38932528e+02,\n",
       "        5.41728974e+02,  5.45071195e+02,  5.49050391e+02,  5.53768391e+02,\n",
       "        5.59342168e+02,  5.65909531e+02,  5.73639797e+02,  5.82745911e+02,\n",
       "        5.93493066e+02,  6.06211492e+02,  6.21313385e+02,  6.39311015e+02,\n",
       "        6.60837762e+02,  6.86654113e+02,  7.17646666e+02,  7.54835536e+02,\n",
       "        7.99380221e+02,  8.52575064e+02,  9.15832004e+02,  9.90669356e+02,\n",
       "        1.07870477e+03,  1.18164358e+03,  1.30125900e+03,  1.43937210e+03,\n",
       "        1.59784559e+03,  1.77857311e+03,  1.98346256e+03,  2.21443075e+03,\n",
       "        2.47338977e+03,  2.76222274e+03,  3.08276096e+03,  3.43676099e+03,\n",
       "        3.82589513e+03,  4.25176325e+03,  4.71590513e+03,  5.21979116e+03,\n",
       "        5.76483445e+03,  6.35243022e+03,  6.98399298e+03,  7.66099587e+03,\n",
       "        8.38500517e+03,  9.15771249e+03,  9.98097449e+03,  1.08568369e+04,\n",
       "        1.17875364e+04,  1.27755014e+04,  1.38233307e+04,  1.49337548e+04,\n",
       "        1.61095986e+04,  1.73537456e+04,  1.86691036e+04,  2.00585977e+04,\n",
       "        2.15251747e+04,  2.30718147e+04,  2.47015857e+04,  2.64177082e+04,\n",
       "        2.82235961e+04,  3.01228852e+04,  3.21194643e+04,  3.42174941e+04,\n",
       "        3.64214083e+04,  3.87358846e+04,  4.11657820e+04,  4.37160649e+04,\n",
       "        4.63917060e+04,  4.91975598e+04,  5.21382304e+04,  5.52179537e+04,\n",
       "        5.84405192e+04,  6.18091683e+04,  6.53265192e+04,  6.89945888e+04,\n",
       "        7.28148390e+04,  7.67882363e+04,  8.09153175e+04,  8.51962734e+04,\n",
       "        8.96310511e+04,  9.42194425e+04,  9.89611593e+04,  1.03855856e+05,\n",
       "        1.08903314e+05,  1.14103470e+05,  1.19456263e+05,  1.24961634e+05,\n",
       "        1.30619519e+05,  1.36429859e+05,  1.42392593e+05,  1.48507658e+05])"
      ]
     },
     "execution_count": 26,
     "metadata": {},
     "output_type": "execute_result"
    }
   ],
   "source": [
    "maharashtra_basic_model_confirmed = integrate.cumtrapz(maharashtra_basic_model)\n",
    "\n",
    "plt.ylabel(\"Confirmed Cases\")\n",
    "\n",
    "plt.plot(india_y, color='red', label='india Confirmed')\n",
    "plt.plot(maharashtra_basic_model_confirmed, color='blue', label='maharashtra Model')\n",
    "plt.plot(maharashtra_y, color='green', label='maharashtra Confirmed')\n",
    "plt.legend()\n",
    "plt.show()\n",
    "maharashtra_basic_model_confirmed"
   ]
  },
  {
   "cell_type": "code",
   "execution_count": 34,
   "metadata": {},
   "outputs": [
    {
     "data": {
      "text/html": [
       "<div>\n",
       "<style scoped>\n",
       "    .dataframe tbody tr th:only-of-type {\n",
       "        vertical-align: middle;\n",
       "    }\n",
       "\n",
       "    .dataframe tbody tr th {\n",
       "        vertical-align: top;\n",
       "    }\n",
       "\n",
       "    .dataframe thead th {\n",
       "        text-align: right;\n",
       "    }\n",
       "</style>\n",
       "<table border=\"1\" class=\"dataframe\">\n",
       "  <thead>\n",
       "    <tr style=\"text-align: right;\">\n",
       "      <th></th>\n",
       "      <th>Date</th>\n",
       "      <th>Predicted Cases</th>\n",
       "    </tr>\n",
       "  </thead>\n",
       "  <tbody>\n",
       "    <tr>\n",
       "      <td>0</td>\n",
       "      <td>2020-05-26</td>\n",
       "      <td>52138</td>\n",
       "    </tr>\n",
       "    <tr>\n",
       "      <td>1</td>\n",
       "      <td>2020-05-27</td>\n",
       "      <td>55217</td>\n",
       "    </tr>\n",
       "    <tr>\n",
       "      <td>2</td>\n",
       "      <td>2020-05-28</td>\n",
       "      <td>58440</td>\n",
       "    </tr>\n",
       "    <tr>\n",
       "      <td>3</td>\n",
       "      <td>2020-05-29</td>\n",
       "      <td>61809</td>\n",
       "    </tr>\n",
       "    <tr>\n",
       "      <td>4</td>\n",
       "      <td>2020-05-30</td>\n",
       "      <td>65326</td>\n",
       "    </tr>\n",
       "    <tr>\n",
       "      <td>5</td>\n",
       "      <td>2020-05-31</td>\n",
       "      <td>68994</td>\n",
       "    </tr>\n",
       "    <tr>\n",
       "      <td>6</td>\n",
       "      <td>2020-06-01</td>\n",
       "      <td>72814</td>\n",
       "    </tr>\n",
       "    <tr>\n",
       "      <td>7</td>\n",
       "      <td>2020-06-02</td>\n",
       "      <td>76788</td>\n",
       "    </tr>\n",
       "    <tr>\n",
       "      <td>8</td>\n",
       "      <td>2020-06-03</td>\n",
       "      <td>80915</td>\n",
       "    </tr>\n",
       "    <tr>\n",
       "      <td>9</td>\n",
       "      <td>2020-06-04</td>\n",
       "      <td>85196</td>\n",
       "    </tr>\n",
       "    <tr>\n",
       "      <td>10</td>\n",
       "      <td>2020-06-05</td>\n",
       "      <td>89631</td>\n",
       "    </tr>\n",
       "    <tr>\n",
       "      <td>11</td>\n",
       "      <td>2020-06-06</td>\n",
       "      <td>94219</td>\n",
       "    </tr>\n",
       "    <tr>\n",
       "      <td>12</td>\n",
       "      <td>2020-06-07</td>\n",
       "      <td>98961</td>\n",
       "    </tr>\n",
       "    <tr>\n",
       "      <td>13</td>\n",
       "      <td>2020-06-08</td>\n",
       "      <td>103855</td>\n",
       "    </tr>\n",
       "    <tr>\n",
       "      <td>14</td>\n",
       "      <td>2020-06-09</td>\n",
       "      <td>108903</td>\n",
       "    </tr>\n",
       "    <tr>\n",
       "      <td>15</td>\n",
       "      <td>2020-06-10</td>\n",
       "      <td>114103</td>\n",
       "    </tr>\n",
       "    <tr>\n",
       "      <td>16</td>\n",
       "      <td>2020-06-11</td>\n",
       "      <td>119456</td>\n",
       "    </tr>\n",
       "    <tr>\n",
       "      <td>17</td>\n",
       "      <td>2020-06-12</td>\n",
       "      <td>124961</td>\n",
       "    </tr>\n",
       "    <tr>\n",
       "      <td>18</td>\n",
       "      <td>2020-06-13</td>\n",
       "      <td>130619</td>\n",
       "    </tr>\n",
       "    <tr>\n",
       "      <td>19</td>\n",
       "      <td>2020-06-14</td>\n",
       "      <td>136429</td>\n",
       "    </tr>\n",
       "    <tr>\n",
       "      <td>20</td>\n",
       "      <td>2020-06-15</td>\n",
       "      <td>142392</td>\n",
       "    </tr>\n",
       "    <tr>\n",
       "      <td>21</td>\n",
       "      <td>2020-06-16</td>\n",
       "      <td>148507</td>\n",
       "    </tr>\n",
       "  </tbody>\n",
       "</table>\n",
       "</div>"
      ],
      "text/plain": [
       "          Date Predicted Cases\n",
       "0   2020-05-26           52138\n",
       "1   2020-05-27           55217\n",
       "2   2020-05-28           58440\n",
       "3   2020-05-29           61809\n",
       "4   2020-05-30           65326\n",
       "5   2020-05-31           68994\n",
       "6   2020-06-01           72814\n",
       "7   2020-06-02           76788\n",
       "8   2020-06-03           80915\n",
       "9   2020-06-04           85196\n",
       "10  2020-06-05           89631\n",
       "11  2020-06-06           94219\n",
       "12  2020-06-07           98961\n",
       "13  2020-06-08          103855\n",
       "14  2020-06-09          108903\n",
       "15  2020-06-10          114103\n",
       "16  2020-06-11          119456\n",
       "17  2020-06-12          124961\n",
       "18  2020-06-13          130619\n",
       "19  2020-06-14          136429\n",
       "20  2020-06-15          142392\n",
       "21  2020-06-16          148507"
      ]
     },
     "execution_count": 34,
     "metadata": {},
     "output_type": "execute_result"
    }
   ],
   "source": [
    "import time\n",
    "\n",
    "predictions = pd.DataFrame(columns = [\"Date\", \"Predicted Cases\"])\n",
    "\n",
    "start_pred = 1590451200\n",
    "for i in range(94, len(maharashtra_basic_model_confirmed)):\n",
    "    t = time.strftime('%Y-%m-%d', time.localtime(start_pred))\n",
    "    pred = maharashtra_basic_model_confirmed[i]\n",
    "    predictions.at[i-94, \"Date\"] = t\n",
    "    predictions.at[i-94, \"Predicted Cases\"] = int(pred)\n",
    "    start_pred = start_pred + 24*60*60\n",
    "    \n",
    "predictions"
   ]
  },
  {
   "cell_type": "code",
   "execution_count": null,
   "metadata": {},
   "outputs": [],
   "source": []
  }
 ],
 "metadata": {
  "kernelspec": {
   "display_name": "Python 3",
   "language": "python",
   "name": "python3"
  },
  "language_info": {
   "codemirror_mode": {
    "name": "ipython",
    "version": 3
   },
   "file_extension": ".py",
   "mimetype": "text/x-python",
   "name": "python",
   "nbconvert_exporter": "python",
   "pygments_lexer": "ipython3",
   "version": "3.7.4"
  }
 },
 "nbformat": 4,
 "nbformat_minor": 2
}
