{
 "cells": [
  {
   "cell_type": "code",
   "execution_count": 1,
   "metadata": {
    "scrolled": true
   },
   "outputs": [
    {
     "name": "stdout",
     "output_type": "stream",
     "text": [
      "(29426, 8)\n"
     ]
    },
    {
     "data": {
      "text/html": [
       "<div>\n",
       "<style scoped>\n",
       "    .dataframe tbody tr th:only-of-type {\n",
       "        vertical-align: middle;\n",
       "    }\n",
       "\n",
       "    .dataframe tbody tr th {\n",
       "        vertical-align: top;\n",
       "    }\n",
       "\n",
       "    .dataframe thead th {\n",
       "        text-align: right;\n",
       "    }\n",
       "</style>\n",
       "<table border=\"1\" class=\"dataframe\">\n",
       "  <thead>\n",
       "    <tr style=\"text-align: right;\">\n",
       "      <th></th>\n",
       "      <th>SNo</th>\n",
       "      <th>ObservationDate</th>\n",
       "      <th>Province/State</th>\n",
       "      <th>Country/Region</th>\n",
       "      <th>Last Update</th>\n",
       "      <th>Confirmed</th>\n",
       "      <th>Deaths</th>\n",
       "      <th>Recovered</th>\n",
       "    </tr>\n",
       "  </thead>\n",
       "  <tbody>\n",
       "    <tr>\n",
       "      <td>0</td>\n",
       "      <td>1</td>\n",
       "      <td>01/22/2020</td>\n",
       "      <td>Anhui</td>\n",
       "      <td>Mainland China</td>\n",
       "      <td>1/22/2020 17:00</td>\n",
       "      <td>1.0</td>\n",
       "      <td>0.0</td>\n",
       "      <td>0.0</td>\n",
       "    </tr>\n",
       "    <tr>\n",
       "      <td>1</td>\n",
       "      <td>2</td>\n",
       "      <td>01/22/2020</td>\n",
       "      <td>Beijing</td>\n",
       "      <td>Mainland China</td>\n",
       "      <td>1/22/2020 17:00</td>\n",
       "      <td>14.0</td>\n",
       "      <td>0.0</td>\n",
       "      <td>0.0</td>\n",
       "    </tr>\n",
       "    <tr>\n",
       "      <td>2</td>\n",
       "      <td>3</td>\n",
       "      <td>01/22/2020</td>\n",
       "      <td>Chongqing</td>\n",
       "      <td>Mainland China</td>\n",
       "      <td>1/22/2020 17:00</td>\n",
       "      <td>6.0</td>\n",
       "      <td>0.0</td>\n",
       "      <td>0.0</td>\n",
       "    </tr>\n",
       "    <tr>\n",
       "      <td>3</td>\n",
       "      <td>4</td>\n",
       "      <td>01/22/2020</td>\n",
       "      <td>Fujian</td>\n",
       "      <td>Mainland China</td>\n",
       "      <td>1/22/2020 17:00</td>\n",
       "      <td>1.0</td>\n",
       "      <td>0.0</td>\n",
       "      <td>0.0</td>\n",
       "    </tr>\n",
       "    <tr>\n",
       "      <td>4</td>\n",
       "      <td>5</td>\n",
       "      <td>01/22/2020</td>\n",
       "      <td>Gansu</td>\n",
       "      <td>Mainland China</td>\n",
       "      <td>1/22/2020 17:00</td>\n",
       "      <td>0.0</td>\n",
       "      <td>0.0</td>\n",
       "      <td>0.0</td>\n",
       "    </tr>\n",
       "  </tbody>\n",
       "</table>\n",
       "</div>"
      ],
      "text/plain": [
       "   SNo ObservationDate Province/State  Country/Region      Last Update  \\\n",
       "0    1      01/22/2020          Anhui  Mainland China  1/22/2020 17:00   \n",
       "1    2      01/22/2020        Beijing  Mainland China  1/22/2020 17:00   \n",
       "2    3      01/22/2020      Chongqing  Mainland China  1/22/2020 17:00   \n",
       "3    4      01/22/2020         Fujian  Mainland China  1/22/2020 17:00   \n",
       "4    5      01/22/2020          Gansu  Mainland China  1/22/2020 17:00   \n",
       "\n",
       "   Confirmed  Deaths  Recovered  \n",
       "0        1.0     0.0        0.0  \n",
       "1       14.0     0.0        0.0  \n",
       "2        6.0     0.0        0.0  \n",
       "3        1.0     0.0        0.0  \n",
       "4        0.0     0.0        0.0  "
      ]
     },
     "execution_count": 1,
     "metadata": {},
     "output_type": "execute_result"
    }
   ],
   "source": [
    "import numpy as np\n",
    "import pandas as pd\n",
    "\n",
    "data = pd.read_csv(\"covid_19_data(updated).csv\")\n",
    "print(data.shape)\n",
    "data.head()"
   ]
  },
  {
   "cell_type": "code",
   "execution_count": 2,
   "metadata": {},
   "outputs": [
    {
     "name": "stdout",
     "output_type": "stream",
     "text": [
      "russia cases up to 20/05/2020: 353427.0\n",
      "india cases up to 20/05/2020: 144950.0\n"
     ]
    },
    {
     "data": {
      "text/plain": [
       "117"
      ]
     },
     "execution_count": 2,
     "metadata": {},
     "output_type": "execute_result"
    }
   ],
   "source": [
    "russia_y = []\n",
    "india_y = []\n",
    "\n",
    "tempsum_russia = 0\n",
    "tempsum_india = 0\n",
    "for i in range(0, len(data)):\n",
    "        if data.iloc[i, 3] == \"Russia\": \n",
    "            tempsum_russia = data.iloc[i, 5]\n",
    "            russia_y.append(tempsum_russia)\n",
    "        if data.iloc[i, 3] == \"India\": \n",
    "            tempsum_india = data.iloc[i, 5]\n",
    "            india_y.append(tempsum_india)\n",
    "        \n",
    "print(\"russia cases up to 20/05/2020: {}\".format(russia_y[len(russia_y) - 1]))\n",
    "print(\"india cases up to 20/05/2020: {}\".format(india_y[len(india_y) - 1]))\n",
    "len(india_y)"
   ]
  },
  {
   "cell_type": "code",
   "execution_count": 3,
   "metadata": {},
   "outputs": [
    {
     "data": {
      "text/plain": [
       "<Figure size 640x480 with 1 Axes>"
      ]
     },
     "metadata": {},
     "output_type": "display_data"
    },
    {
     "name": "stdout",
     "output_type": "stream",
     "text": [
      "[1.0, 1.0, 1.0, 2.0, 3.0, 3.0, 3.0, 3.0, 3.0, 3.0, 3.0, 3.0, 3.0, 3.0, 3.0, 3.0, 3.0, 3.0, 3.0, 3.0, 3.0, 3.0, 3.0, 3.0, 3.0, 3.0, 3.0, 3.0, 3.0, 3.0, 3.0, 3.0, 5.0, 5.0, 28.0, 30.0, 31.0, 34.0, 39.0, 43.0, 56.0, 62.0, 73.0, 82.0, 102.0, 113.0, 119.0, 142.0, 156.0, 194.0, 244.0, 330.0, 396.0, 499.0, 536.0, 657.0, 727.0, 887.0, 987.0, 1024.0, 1251.0, 1397.0, 1998.0, 2543.0, 2567.0, 3082.0, 3588.0, 4778.0, 5311.0, 5916.0, 6725.0, 7598.0, 8446.0, 9205.0, 10453.0, 11487.0, 12322.0, 13430.0, 14352.0, 15722.0, 17615.0, 18539.0, 20080.0, 21370.0, 23077.0, 24530.0, 26283.0, 27890.0, 29451.0, 31324.0, 33062.0, 34863.0, 37257.0, 39699.0, 42505.0, 46437.0, 49400.0, 52987.0, 56351.0, 59695.0, 62808.0, 67161.0, 70768.0, 74292.0, 78055.0, 81997.0, 85784.0, 90648.0, 95698.0, 100328.0, 106475.0, 112028.0, 118226.0, 124794.0, 131423.0, 138536.0, 144950.0]\n"
     ]
    }
   ],
   "source": [
    "import matplotlib.pyplot as plt\n",
    "\n",
    "plt.ylabel(\"Confirmed Cases\")\n",
    "plt.xlabel(\"Days after 22/01/2020\")\n",
    "\n",
    "plt.plot(russia_y, color='red', label='russia')\n",
    "plt.plot(india_y, color='green', label='India')\n",
    "plt.legend()\n",
    "plt.show()\n",
    "print(india_y)"
   ]
  },
  {
   "cell_type": "code",
   "execution_count": 4,
   "metadata": {},
   "outputs": [
    {
     "data": {
      "image/png": "[encoded data removed]",
      "text/plain": [
       "<Figure size 432x288 with 1 Axes>"
      ]
     },
     "metadata": {
      "needs_background": "light"
     },
     "output_type": "display_data"
    },
    {
     "data": {
      "text/plain": [
       "116"
      ]
     },
     "execution_count": 4,
     "metadata": {},
     "output_type": "execute_result"
    }
   ],
   "source": [
    "from scipy.signal import savgol_filter\n",
    "\n",
    "deriv_russia = savgol_filter(russia_y, 9, 2, 1) #Polynomial degree is 2 since the function should look like a parabola\n",
    "\n",
    "plt.ylabel(\"ΔConfirmed Cases\")\n",
    "\n",
    "plt.plot(deriv_russia, color='red', label=\" SD\")\n",
    "plt.legend()\n",
    "plt.show()\n",
    "len(russia_y)"
   ]
  },
  {
   "cell_type": "code",
   "execution_count": 5,
   "metadata": {},
   "outputs": [
    {
     "data": {
      "image/png": "[encoded data removed]",
      "text/plain": [
       "<Figure size 432x288 with 1 Axes>"
      ]
     },
     "metadata": {
      "needs_background": "light"
     },
     "output_type": "display_data"
    },
    {
     "name": "stdout",
     "output_type": "stream",
     "text": [
      "[1.0, 1.0, 1.0, 2.0, 3.0, 3.0, 3.0, 3.0, 3.0, 3.0, 3.0, 3.0, 3.0, 3.0, 3.0, 3.0, 3.0, 3.0, 3.0, 3.0, 3.0, 3.0, 3.0, 3.0, 3.0, 3.0, 3.0, 3.0, 3.0, 3.0, 3.0, 3.0, 5.0, 5.0, 28.0, 30.0, 31.0, 34.0, 39.0, 43.0, 56.0, 62.0, 73.0, 82.0, 102.0, 113.0, 119.0, 142.0, 156.0, 194.0, 244.0, 330.0, 396.0, 499.0, 536.0, 657.0, 727.0, 887.0, 987.0, 1024.0, 1251.0, 1397.0, 1998.0, 2543.0, 2567.0, 3082.0, 3588.0, 4778.0, 5311.0, 5916.0, 6725.0, 7598.0, 8446.0, 9205.0, 10453.0, 11487.0, 12322.0, 13430.0, 14352.0, 15722.0, 17615.0, 18539.0, 20080.0, 21370.0, 23077.0, 24530.0, 26283.0, 27890.0, 29451.0, 31324.0, 33062.0, 34863.0, 37257.0, 39699.0, 42505.0, 46437.0, 49400.0, 52987.0, 56351.0, 59695.0, 62808.0, 67161.0, 70768.0, 74292.0, 78055.0, 81997.0, 85784.0, 90648.0, 95698.0, 100328.0, 106475.0, 112028.0, 118226.0, 124794.0, 131423.0, 138536.0, 144950.0]\n"
     ]
    }
   ],
   "source": [
    "from scipy.signal import savgol_filter\n",
    "\n",
    "deriv_russia = savgol_filter(russia_y, int((len(russia_y)+1)/3), 2, 1)\n",
    "deriv_russia = savgol_filter(deriv_russia, int((len(russia_y)-1)/5), 2, 0)\n",
    "\n",
    "plt.ylabel(\"ΔConfirmed Cases\")\n",
    "\n",
    "plt.plot(deriv_russia, color='red', label=\"russia SD\")\n",
    "plt.legend()\n",
    "plt.show()\n",
    "print(india_y)"
   ]
  },
  {
   "cell_type": "code",
   "execution_count": 6,
   "metadata": {},
   "outputs": [
    {
     "data": {
      "image/png": "[encoded data removed]",
      "text/plain": [
       "<Figure size 432x288 with 1 Axes>"
      ]
     },
     "metadata": {
      "needs_background": "light"
     },
     "output_type": "display_data"
    },
    {
     "name": "stdout",
     "output_type": "stream",
     "text": [
      "[1.0, 1.0, 1.0, 2.0, 3.0, 3.0, 3.0, 3.0, 3.0, 3.0, 3.0, 3.0, 3.0, 3.0, 3.0, 3.0, 3.0, 3.0, 3.0, 3.0, 3.0, 3.0, 3.0, 3.0, 3.0, 3.0, 3.0, 3.0, 3.0, 3.0, 3.0, 3.0, 5.0, 5.0, 28.0, 30.0, 31.0, 34.0, 39.0, 43.0, 56.0, 62.0, 73.0, 82.0, 102.0, 113.0, 119.0, 142.0, 156.0, 194.0, 244.0, 330.0, 396.0, 499.0, 536.0, 657.0, 727.0, 887.0, 987.0, 1024.0, 1251.0, 1397.0, 1998.0, 2543.0, 2567.0, 3082.0, 3588.0, 4778.0, 5311.0, 5916.0, 6725.0, 7598.0, 8446.0, 9205.0, 10453.0, 11487.0, 12322.0, 13430.0, 14352.0, 15722.0, 17615.0, 18539.0, 20080.0, 21370.0, 23077.0, 24530.0, 26283.0, 27890.0, 29451.0, 31324.0, 33062.0, 34863.0, 37257.0, 39699.0, 42505.0, 46437.0, 49400.0, 52987.0, 56351.0, 59695.0, 62808.0, 67161.0, 70768.0, 74292.0, 78055.0, 81997.0, 85784.0, 90648.0, 95698.0, 100328.0, 106475.0, 112028.0, 118226.0, 124794.0, 131423.0, 138536.0, 144950.0]\n"
     ]
    }
   ],
   "source": [
    "from scipy import integrate\n",
    "\n",
    "russia_y_pred = integrate.cumtrapz(deriv_russia) \n",
    "\n",
    "plt.ylabel(\"Confirmed Cases\")\n",
    "\n",
    "plt.plot(russia_y, color='red', label=\"russia Actual\")\n",
    "plt.plot(russia_y_pred, color='blue', label='russia Model')\n",
    "plt.legend()\n",
    "plt.show()\n",
    "print(india_y)"
   ]
  },
  {
   "cell_type": "code",
   "execution_count": 7,
   "metadata": {},
   "outputs": [
    {
     "data": {
      "image/png": "[encoded data removed]",
      "text/plain": [
       "<Figure size 432x288 with 1 Axes>"
      ]
     },
     "metadata": {
      "needs_background": "light"
     },
     "output_type": "display_data"
    }
   ],
   "source": [
    "india_y = india_y[:49]\n",
    "deriv_india = savgol_filter(india_y, 5, 2, 1)\n",
    "deriv_india = savgol_filter(deriv_india, 9, 3, 0)\n",
    "\n",
    "plt.plot(russia_y, color='red', label='russia')\n",
    "plt.plot(russia_y_pred, color='blue', label=\"russia Model\")\n",
    "plt.plot(india_y, color='green', label='India')\n",
    "plt.legend()\n",
    "plt.show()"
   ]
  },
  {
   "cell_type": "code",
   "execution_count": 8,
   "metadata": {},
   "outputs": [
    {
     "data": {
      "image/png": "[encoded data removed]",
      "text/plain": [
       "<Figure size 432x288 with 1 Axes>"
      ]
     },
     "metadata": {
      "needs_background": "light"
     },
     "output_type": "display_data"
    }
   ],
   "source": [
    "plt.ylabel(\"ΔConfirmed Cases\")\n",
    "\n",
    "plt.plot(deriv_russia, color='red', label='russia SD')\n",
    "plt.plot(deriv_india, color='green', label='India SD')\n",
    "plt.legend()\n",
    "plt.show()"
   ]
  },
  {
   "cell_type": "code",
   "execution_count": 9,
   "metadata": {},
   "outputs": [
    {
     "data": {
      "image/png": "[encoded data removed]",
      "text/plain": [
       "<Figure size 432x288 with 1 Axes>"
      ]
     },
     "metadata": {
      "needs_background": "light"
     },
     "output_type": "display_data"
    }
   ],
   "source": [
    "india_derv_model = np.roll(deriv_russia, 1)\n",
    "india_derv_model = savgol_filter(india_derv_model, 19, 2, 0)\n",
    "india_basic_model= []\n",
    "for i in range(49):\n",
    "    india_basic_model.append(deriv_india[i])\n",
    "\n",
    "for i in range(49, len(india_derv_model)):\n",
    "    india_basic_model.append(india_derv_model[i])\n",
    "\n",
    "plt.ylabel(\"ΔConfirmed Cases\")\n",
    "\n",
    "plt.plot(deriv_russia, color='red', label=\"russia SD\")\n",
    "plt.plot(india_basic_model, color='green', label='India Model SD')\n",
    "plt.legend()\n",
    "plt.show()"
   ]
  },
  {
   "cell_type": "code",
   "execution_count": 10,
   "metadata": {},
   "outputs": [
    {
     "data": {
      "image/png": "[encoded data removed]",
      "text/plain": [
       "<Figure size 432x288 with 1 Axes>"
      ]
     },
     "metadata": {
      "needs_background": "light"
     },
     "output_type": "display_data"
    },
    {
     "data": {
      "text/plain": [
       "array([-1.10281385e-01,  2.29978355e-01,  7.43506494e-01,  1.23181818e+00,\n",
       "        1.59632035e+00,  1.80389610e+00,  1.86969697e+00,  1.85779221e+00,\n",
       "        1.83203463e+00,  1.82294372e+00,  1.82294372e+00,  1.82294372e+00,\n",
       "        1.82294372e+00,  1.82294372e+00,  1.82294372e+00,  1.82294372e+00,\n",
       "        1.82294372e+00,  1.82294372e+00,  1.82294372e+00,  1.82294372e+00,\n",
       "        1.82294372e+00,  1.82294372e+00,  1.82294372e+00,  1.82294372e+00,\n",
       "        1.82294372e+00,  1.80476190e+00,  1.77142857e+00,  1.57186147e+00,\n",
       "        1.29242424e+00,  1.64090909e+00,  3.42164502e+00,  7.14350649e+00,\n",
       "        1.25212121e+01,  1.86038961e+01,  2.45906926e+01,  2.99010823e+01,\n",
       "        3.45883117e+01,  3.94339827e+01,  4.52787879e+01,  5.28928571e+01,\n",
       "        6.22692641e+01,  7.28948052e+01,  8.44378788e+01,  9.66818182e+01,\n",
       "        1.09609091e+02,  1.23512013e+02,  1.39141126e+02,  1.57609091e+02,\n",
       "        2.32372710e+02,  3.73716870e+02,  5.41186678e+02,  7.39253474e+02,\n",
       "        9.73080615e+02,  1.24857454e+03,  1.57240744e+03,  1.95199402e+03,\n",
       "        2.39542098e+03,  2.91134842e+03,  3.50889988e+03,  4.19752665e+03,\n",
       "        4.98688329e+03,  5.88672862e+03,  6.90683832e+03,  8.05693601e+03,\n",
       "        9.34664746e+03,  1.07854925e+04,  1.23829179e+04,  1.41483649e+04,\n",
       "        1.60913452e+04,  1.82215271e+04,  2.05488170e+04,  2.30834064e+04,\n",
       "        2.58357705e+04,  2.88166221e+04,  3.20368109e+04,  3.55071605e+04,\n",
       "        3.92382432e+04,  4.32401348e+04,  4.75221221e+04,  5.20923385e+04,\n",
       "        5.69573959e+04,  6.21220300e+04,  6.75888232e+04,  7.33580284e+04,\n",
       "        7.94274844e+04,  8.57926210e+04,  9.24465571e+04,  9.93803228e+04,\n",
       "        1.06583186e+05,  1.14043050e+05,  1.21746906e+05,  1.29681332e+05,\n",
       "        1.37832972e+05,  1.46188973e+05,  1.54737380e+05,  1.63467496e+05,\n",
       "        1.72370061e+05,  1.81437423e+05,  1.90663637e+05,  2.00044349e+05,\n",
       "        2.09576634e+05,  2.19258789e+05,  2.29090091e+05,  2.39070552e+05,\n",
       "        2.49200689e+05,  2.59481325e+05,  2.69913758e+05,  2.80498967e+05,\n",
       "        2.91237239e+05,  3.02128862e+05,  3.13174122e+05,  3.24373307e+05,\n",
       "        3.35726704e+05,  3.47234601e+05,  3.58897286e+05])"
      ]
     },
     "execution_count": 10,
     "metadata": {},
     "output_type": "execute_result"
    }
   ],
   "source": [
    "india_basic_model_confirmed = integrate.cumtrapz(india_basic_model)\n",
    "\n",
    "plt.ylabel(\"Confirmed Cases\")\n",
    "\n",
    "plt.plot(russia_y, color='red', label='russia Confirmed')\n",
    "plt.plot(india_basic_model_confirmed, color='blue', label='India Model')\n",
    "plt.plot(india_y, color='green', label='India Confirmed')\n",
    "plt.legend()\n",
    "plt.show()\n",
    "india_basic_model_confirmed"
   ]
  },
  {
   "cell_type": "code",
   "execution_count": 11,
   "metadata": {},
   "outputs": [
    {
     "data": {
      "text/html": [
       "<div>\n",
       "<style scoped>\n",
       "    .dataframe tbody tr th:only-of-type {\n",
       "        vertical-align: middle;\n",
       "    }\n",
       "\n",
       "    .dataframe tbody tr th {\n",
       "        vertical-align: top;\n",
       "    }\n",
       "\n",
       "    .dataframe thead th {\n",
       "        text-align: right;\n",
       "    }\n",
       "</style>\n",
       "<table border=\"1\" class=\"dataframe\">\n",
       "  <thead>\n",
       "    <tr style=\"text-align: right;\">\n",
       "      <th></th>\n",
       "      <th>Date</th>\n",
       "      <th>Predicted Cases</th>\n",
       "    </tr>\n",
       "  </thead>\n",
       "  <tbody>\n",
       "    <tr>\n",
       "      <td>0</td>\n",
       "      <td>2020-03-28</td>\n",
       "      <td>154737</td>\n",
       "    </tr>\n",
       "    <tr>\n",
       "      <td>1</td>\n",
       "      <td>2020-03-29</td>\n",
       "      <td>163467</td>\n",
       "    </tr>\n",
       "    <tr>\n",
       "      <td>2</td>\n",
       "      <td>2020-03-30</td>\n",
       "      <td>172370</td>\n",
       "    </tr>\n",
       "    <tr>\n",
       "      <td>3</td>\n",
       "      <td>2020-03-31</td>\n",
       "      <td>181437</td>\n",
       "    </tr>\n",
       "    <tr>\n",
       "      <td>4</td>\n",
       "      <td>2020-04-01</td>\n",
       "      <td>190663</td>\n",
       "    </tr>\n",
       "    <tr>\n",
       "      <td>5</td>\n",
       "      <td>2020-04-02</td>\n",
       "      <td>200044</td>\n",
       "    </tr>\n",
       "    <tr>\n",
       "      <td>6</td>\n",
       "      <td>2020-04-03</td>\n",
       "      <td>209576</td>\n",
       "    </tr>\n",
       "    <tr>\n",
       "      <td>7</td>\n",
       "      <td>2020-04-04</td>\n",
       "      <td>219258</td>\n",
       "    </tr>\n",
       "    <tr>\n",
       "      <td>8</td>\n",
       "      <td>2020-04-05</td>\n",
       "      <td>229090</td>\n",
       "    </tr>\n",
       "    <tr>\n",
       "      <td>9</td>\n",
       "      <td>2020-04-06</td>\n",
       "      <td>239070</td>\n",
       "    </tr>\n",
       "    <tr>\n",
       "      <td>10</td>\n",
       "      <td>2020-04-07</td>\n",
       "      <td>249200</td>\n",
       "    </tr>\n",
       "    <tr>\n",
       "      <td>11</td>\n",
       "      <td>2020-04-08</td>\n",
       "      <td>259481</td>\n",
       "    </tr>\n",
       "    <tr>\n",
       "      <td>12</td>\n",
       "      <td>2020-04-09</td>\n",
       "      <td>269913</td>\n",
       "    </tr>\n",
       "    <tr>\n",
       "      <td>13</td>\n",
       "      <td>2020-04-10</td>\n",
       "      <td>280498</td>\n",
       "    </tr>\n",
       "    <tr>\n",
       "      <td>14</td>\n",
       "      <td>2020-04-11</td>\n",
       "      <td>291237</td>\n",
       "    </tr>\n",
       "    <tr>\n",
       "      <td>15</td>\n",
       "      <td>2020-04-12</td>\n",
       "      <td>302128</td>\n",
       "    </tr>\n",
       "    <tr>\n",
       "      <td>16</td>\n",
       "      <td>2020-04-13</td>\n",
       "      <td>313174</td>\n",
       "    </tr>\n",
       "    <tr>\n",
       "      <td>17</td>\n",
       "      <td>2020-04-14</td>\n",
       "      <td>324373</td>\n",
       "    </tr>\n",
       "    <tr>\n",
       "      <td>18</td>\n",
       "      <td>2020-04-15</td>\n",
       "      <td>335726</td>\n",
       "    </tr>\n",
       "    <tr>\n",
       "      <td>19</td>\n",
       "      <td>2020-04-16</td>\n",
       "      <td>347234</td>\n",
       "    </tr>\n",
       "    <tr>\n",
       "      <td>20</td>\n",
       "      <td>2020-04-17</td>\n",
       "      <td>358897</td>\n",
       "    </tr>\n",
       "  </tbody>\n",
       "</table>\n",
       "</div>"
      ],
      "text/plain": [
       "          Date Predicted Cases\n",
       "0   2020-03-28          154737\n",
       "1   2020-03-29          163467\n",
       "2   2020-03-30          172370\n",
       "3   2020-03-31          181437\n",
       "4   2020-04-01          190663\n",
       "5   2020-04-02          200044\n",
       "6   2020-04-03          209576\n",
       "7   2020-04-04          219258\n",
       "8   2020-04-05          229090\n",
       "9   2020-04-06          239070\n",
       "10  2020-04-07          249200\n",
       "11  2020-04-08          259481\n",
       "12  2020-04-09          269913\n",
       "13  2020-04-10          280498\n",
       "14  2020-04-11          291237\n",
       "15  2020-04-12          302128\n",
       "16  2020-04-13          313174\n",
       "17  2020-04-14          324373\n",
       "18  2020-04-15          335726\n",
       "19  2020-04-16          347234\n",
       "20  2020-04-17          358897"
      ]
     },
     "execution_count": 11,
     "metadata": {},
     "output_type": "execute_result"
    }
   ],
   "source": [
    "import time\n",
    "\n",
    "predictions = pd.DataFrame(columns = [\"Date\", \"Predicted Cases\"])\n",
    "\n",
    "start_pred = 1585353600\n",
    "for i in range(94, len(india_basic_model_confirmed)):\n",
    "    t = time.strftime('%Y-%m-%d', time.localtime(start_pred))\n",
    "    pred = india_basic_model_confirmed[i]\n",
    "    predictions.at[i-94, \"Date\"] = t\n",
    "    predictions.at[i-94, \"Predicted Cases\"] = int(pred)\n",
    "    start_pred = start_pred + 24*60*60\n",
    "    \n",
    "predictions"
   ]
  },
  {
   "cell_type": "code",
   "execution_count": null,
   "metadata": {},
   "outputs": [],
   "source": []
  },
  {
   "cell_type": "code",
   "execution_count": null,
   "metadata": {},
   "outputs": [],
   "source": []
  },
  {
   "cell_type": "code",
   "execution_count": null,
   "metadata": {},
   "outputs": [],
   "source": []
  }
 ],
 "metadata": {
  "kernelspec": {
   "display_name": "Python 3",
   "language": "python",
   "name": "python3"
  },
  "language_info": {
   "codemirror_mode": {
    "name": "ipython",
    "version": 3
   },
   "file_extension": ".py",
   "mimetype": "text/x-python",
   "name": "python",
   "nbconvert_exporter": "python",
   "pygments_lexer": "ipython3",
   "version": "3.7.4"
  }
 },
 "nbformat": 4,
 "nbformat_minor": 2
}
